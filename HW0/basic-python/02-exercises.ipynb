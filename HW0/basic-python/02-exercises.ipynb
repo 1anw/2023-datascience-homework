{
 "cells": [
  {
   "cell_type": "markdown",
   "metadata": {},
   "source": [
    "# Excercises for Lecture 2\n",
    "\n",
    "Your Name: Ian Wixom\n",
    "\n",
    "Your UID: u1201040\n",
    "\n",
    "Your E-Mail: iwixom@asuu.utah.edu"
   ]
  },
  {
   "cell_type": "markdown",
   "metadata": {},
   "source": [
    "## Exercise 1: Data types and operations\n",
    "Play around with data types and operations. Try the following things:\n",
    "\n",
    "1. Define two variables and assign an integer to the first and a float to the second. Define a new variable and assign the sum of the previous two variables. What's the data type of the third variable?\n",
    " - float\n",
    "2. Reassign a variable with a different data type, e.g., take one of your numerical variables and assign a string to it. What's the new data type?\n",
    " - string\n",
    "3. See what happens if you try to add a string to a string.\n",
    " - works\n",
    "4. See what happens if you add a string to a float or an integer.\n",
    " - TypeError"
   ]
  },
  {
   "cell_type": "code",
   "execution_count": 1,
   "metadata": {},
   "outputs": [
    {
     "name": "stdout",
     "output_type": "stream",
     "text": [
      "3 4.2 7.2\n",
      "Regarding Question 1: <class 'float'>\n",
      "three of hearts\n",
      "Regarding Question 2: <class 'str'>\n"
     ]
    },
    {
     "ename": "TypeError",
     "evalue": "unsupported operand type(s) for +: 'int' and 'str'",
     "output_type": "error",
     "traceback": [
      "\u001b[0;31m---------------------------------------------------------------------------\u001b[0m",
      "\u001b[0;31mTypeError\u001b[0m                                 Traceback (most recent call last)",
      "Input \u001b[0;32mIn [1]\u001b[0m, in \u001b[0;36m<cell line: 10>\u001b[0;34m()\u001b[0m\n\u001b[1;32m      8\u001b[0m \u001b[38;5;28mprint\u001b[39m(x \u001b[38;5;241m+\u001b[39m aa) \u001b[38;5;66;03m# Question 3: stays a string\u001b[39;00m\n\u001b[1;32m      9\u001b[0m \u001b[38;5;28mprint\u001b[39m(\u001b[38;5;124m\"\u001b[39m\u001b[38;5;124mRegarding Question 2:\u001b[39m\u001b[38;5;124m\"\u001b[39m, \u001b[38;5;28mtype\u001b[39m(x))\n\u001b[0;32m---> 10\u001b[0m \u001b[38;5;28mprint\u001b[39m(\u001b[38;5;241;43m3\u001b[39;49m\u001b[43m \u001b[49m\u001b[38;5;241;43m+\u001b[39;49m\u001b[43m \u001b[49m\u001b[43mx\u001b[49m)\n",
      "\u001b[0;31mTypeError\u001b[0m: unsupported operand type(s) for +: 'int' and 'str'"
     ]
    }
   ],
   "source": [
    "x = 3\n",
    "y = 4.2\n",
    "z = x + y\n",
    "print(x, y, z)\n",
    "print(\"Regarding Question 1:\", type(z))\n",
    "x = \"three\"\n",
    "aa = \" of hearts\"\n",
    "print(x + aa) # Question 3: stays a string\n",
    "print(\"Regarding Question 2:\", type(x))\n",
    "print(3 + x) # Question 4: TypeError"
   ]
  },
  {
   "cell_type": "markdown",
   "metadata": {},
   "source": [
    "## Exercise 2: Running Programs\n",
    "\n",
    " * Create a new file python file and use the simple function as a template. Modify the code to add two numbers instead of doubling a single number.\n",
    " * Can you guess what would happen if you change the indentation? Try it out.\n",
    " * Try what happens if you print `a` at the very end of the program. Can you explain what's going on?\n",
    " \n",
    "If you want to submit this activity, paste the content of your python file here:  "
   ]
  },
  {
   "cell_type": "code",
   "execution_count": 3,
   "metadata": {},
   "outputs": [
    {
     "name": "stdout",
     "output_type": "stream",
     "text": [
      "9\n"
     ]
    },
    {
     "ename": "NameError",
     "evalue": "name 'a' is not defined",
     "output_type": "error",
     "traceback": [
      "\u001b[0;31m---------------------------------------------------------------------------\u001b[0m",
      "\u001b[0;31mNameError\u001b[0m                                 Traceback (most recent call last)",
      "Input \u001b[0;32mIn [3]\u001b[0m, in \u001b[0;36m<cell line: 5>\u001b[0;34m()\u001b[0m\n\u001b[1;32m      2\u001b[0m     \u001b[38;5;28;01mreturn\u001b[39;00m a\u001b[38;5;241m+\u001b[39mb\n\u001b[1;32m      4\u001b[0m \u001b[38;5;28mprint\u001b[39m(addition(\u001b[38;5;241m2\u001b[39m, \u001b[38;5;241m7\u001b[39m))\n\u001b[0;32m----> 5\u001b[0m \u001b[38;5;28mprint\u001b[39m(\u001b[43ma\u001b[49m)\n",
      "\u001b[0;31mNameError\u001b[0m: name 'a' is not defined"
     ]
    }
   ],
   "source": [
    "def addition(a, b):\n",
    "    return a+b\n",
    "\n",
    "print(addition(2, 7))\n",
    "print(a)\n"
   ]
  },
  {
   "cell_type": "markdown",
   "metadata": {},
   "source": [
    "## Exercise 3: Creating Cells, Executing Code\n",
    "\n",
    "1. Create a new code cell below where you define variables containing your name, your age in years, and your major.\n",
    "2. Create another cell that uses these variables and prints a concatenated string stating your name, major, and your age in years, months, and days (assuming today is your birthday). The output should look like that:\n",
    "\n",
    "```\n",
    "Name: Science Cat, Major: Computer Science, Age: 94 years, or 1128 months, or 34310 days. \n",
    "```"
   ]
  },
  {
   "cell_type": "code",
   "execution_count": 4,
   "metadata": {},
   "outputs": [
    {
     "name": "stdout",
     "output_type": "stream",
     "text": [
      "Name: Ian Wixom, Major: Applied Math + International Studies, Age: 22 years old.\n"
     ]
    }
   ],
   "source": [
    "print(\"Name: {}, Major: {}, Age: {} years old.\".format(\"Ian Wixom\", \"Applied Math + International Studies\", \"22\"))"
   ]
  },
  {
   "cell_type": "markdown",
   "metadata": {},
   "source": [
    "## Exercise 4: Functions\n",
    "Write a function that \n",
    " * takes two numerical variables\n",
    " * multiplies them with each other\n",
    " * divides them by a numerical variable defined in the scope outside the function\n",
    " * and returns the result. \n",
    " \n",
    "Print the result of the function for three different sets of input variables. "
   ]
  },
  {
   "cell_type": "code",
   "execution_count": 7,
   "metadata": {},
   "outputs": [
    {
     "name": "stdout",
     "output_type": "stream",
     "text": [
      "4.0\n",
      "1.7341646\n",
      "-333333.3333333333\n"
     ]
    }
   ],
   "source": [
    "c = 3\n",
    "\n",
    "def func(a, b):\n",
    "    return (a * b)/c\n",
    "\n",
    "print(func(2, 6))\n",
    "print(func(0.7432134, 7))\n",
    "print(func(-1, 1000000))"
   ]
  },
  {
   "cell_type": "code",
   "execution_count": null,
   "metadata": {},
   "outputs": [],
   "source": []
  }
 ],
 "metadata": {
  "kernelspec": {
   "display_name": "Python 3 (ipykernel)",
   "language": "python",
   "name": "python3"
  },
  "language_info": {
   "codemirror_mode": {
    "name": "ipython",
    "version": 3
   },
   "file_extension": ".py",
   "mimetype": "text/x-python",
   "name": "python",
   "nbconvert_exporter": "python",
   "pygments_lexer": "ipython3",
   "version": "3.9.12"
  }
 },
 "nbformat": 4,
 "nbformat_minor": 4
}
